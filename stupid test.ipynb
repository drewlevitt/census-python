{
 "metadata": {
  "name": "",
  "signature": "sha256:1793624ed078a2a6fd0e88ae066ee95e8475fac2d340c63d2e51c0d5fffad4a8"
 },
 "nbformat": 3,
 "nbformat_minor": 0,
 "worksheets": [
  {
   "cells": [
    {
     "cell_type": "code",
     "collapsed": false,
     "input": [
      "testdict = {\"a\": \"apple\",\n",
      "            \"b\": \"banana\",\n",
      "            \"c\": \"cucumber\",\n",
      "            \"d\": \"durian\",\n",
      "            \"e\": \"eggplant\"}"
     ],
     "language": "python",
     "metadata": {},
     "outputs": [],
     "prompt_number": 13
    },
    {
     "cell_type": "code",
     "collapsed": false,
     "input": [
      "testdict.keys()"
     ],
     "language": "python",
     "metadata": {},
     "outputs": [
      {
       "metadata": {},
       "output_type": "pyout",
       "prompt_number": 14,
       "text": [
        "['a', 'c', 'b', 'e', 'd']"
       ]
      }
     ],
     "prompt_number": 14
    },
    {
     "cell_type": "code",
     "collapsed": false,
     "input": [
      "verbosedict = dict(zip(testdict.keys(), [key + \" \" + value for key, value in testdict.items()]))"
     ],
     "language": "python",
     "metadata": {},
     "outputs": [],
     "prompt_number": 15
    },
    {
     "cell_type": "code",
     "collapsed": false,
     "input": [
      "verbosedict"
     ],
     "language": "python",
     "metadata": {},
     "outputs": [
      {
       "metadata": {},
       "output_type": "pyout",
       "prompt_number": 16,
       "text": [
        "{'a': 'a apple',\n",
        " 'b': 'b banana',\n",
        " 'c': 'c cucumber',\n",
        " 'd': 'd durian',\n",
        " 'e': 'e eggplant'}"
       ]
      }
     ],
     "prompt_number": 16
    },
    {
     "cell_type": "code",
     "collapsed": false,
     "input": [
      "# Sam's variable lists\n",
      "\n",
      "#UNWEIGHTED SAMPLE COUNT OF THE POPULATION\n",
      "totpopE = ['B01003_001E']\n",
      "totpopM = ['B01003_001M']\n",
      "#UNWEIGHTED SAMPLE HOUSING UNITS\n",
      "tothouseunitsE = ['B25001_001E']\n",
      "tothouseunitsM = ['B25001_001M']\n",
      "#SEX BY AGE\n",
      "ageE  =['B01001_0%02dE'%i for i in range(1,50)]\n",
      "ageM  =['B01001_0%02dM'%i for i in range(1,50)]\n",
      "#RACE\n",
      "raceE  =['B02001_0%02dE'%i for i in range(1,11)]\n",
      "raceM  =['B02001_0%02dM'%i for i in range(1,11)]\n",
      "#HISPANIC OR LATINO ORIGIN BY RACE\n",
      "racehispE = ['B03002_0%02dE'%i for i in range(1,4)]\n",
      "racehispM = ['B03002_0%02dM'%i for i in range(1,4)]\n",
      "#POVERTY STATUS IN THE PAST 12 MONTHS BY SEX BY AGE\n",
      "povertyE = ['B17001_0%02dE'%i for i in range(1,22)]\n",
      "povertyM = ['B17001_0%02dM'%i for i in range(1,22)]\n",
      "#HOUSEHOLD INCOME IN THE PAST 12 MONTHS (IN 2010 INFLATION-ADJUSTED DOLLARS)\n",
      "incomeE = ['B19001_0%02dE'%i for i in range(1,18)]\n",
      "incomeM = ['B19001_0%02dM'%i for i in range(1,18)]\n",
      "#SEX BY EDUCATIONAL ATTAINMENT FOR THE POPULATION 25 YEARS AND OVER\n",
      "educationE = ['B15002_0%02dE'%i for i in range(1,36)]\n",
      "educationM = ['B15002_0%02dM'%i for i in range(1,36)]\n",
      "#TENURE BY HOUSEHOLD TYPE AND PRESENCE AND AGE OF OWN CHILDREN\n",
      "tenureE = ['B25003_0%02dE'%i for i in range(1,4)]\n",
      "tenureM = ['B25003_0%02dM'%i for i in range(1,4)]\n",
      "#TENURE BY VEHICLES AVAILABLE\n",
      "vehicleE = ['B25044_0%02dE'%i for i in range(1,16)]\n",
      "vehicleM = ['B25044_0%02dM'%i for i in range(1,16)]\n",
      "#TRAVEL TIME TO WORK FOR WORKPLACE GEOGRAPHY\n",
      "commutetimeE = ['B08603_0%02dE'%i for i in range(1,14)]\n",
      "commutetimeM = ['B08603_0%02dM'%i for i in range(1,14)]\n",
      "#MEANS OF TRANSPORTATION TO WORK\n",
      "commutemodeE = ['B08301_0%02dE'%i for i in range(1,22)]\n",
      "commutemodeM = ['B08301_0%02dM'%i for i in range(1,22)]\n",
      "\n",
      "#set \"variables\" as a list of all variables specified above\n",
      "#break into 50 var calls - make a loop that loops through each above list then pulls data then aggregates all dataframes into one.\n",
      "variables_all = totpopE + totpopM + tothouseunitsE + tothouseunitsM + ageE + ageM + raceE + raceM + racehispE + racehispM + povertyE + povertyM + incomeE + incomeM + educationE + educationM + tenureE + tenureM + vehicleE + vehicleM + commutetimeE + commutetimeM + commutemodeE + commutemodeM\n",
      "#print (variables_all)\n",
      "variables1 = totpopE + totpopM + tothouseunitsE + tothouseunitsM\n",
      "variables2 = ageE\n",
      "variables3 = ageM\n",
      "variables4 = raceE + raceM + racehispE + racehispM\n",
      "variables5 = povertyE + povertyM\n",
      "variables6 = incomeE + incomeM\n",
      "variables7 = educationE\n",
      "variables8 = educationM\n",
      "variables9 = tenureE + tenureM + vehicleE + vehicleM\n",
      "variables10 = commutetimeE + commutetimeM\n",
      "variables11 = commutemodeE + commutemodeM\n",
      "\n",
      "#2000 SF1\n",
      "#Total Population\n",
      "totpop_sf1_00 = ['P001001']\n",
      "#Total Housing units\n",
      "tothouseunits_sf1_00 = ['H001001']\n",
      "\n",
      "#2000 SF3\n",
      "#Total Population\n",
      "totpop_sf3_00 = ['P001001']\n",
      "#Total Housing units\n",
      "tothouseunits_sf3_00 = ['H001001']\n",
      "#SEX BY AGE\n",
      "age1_sf3_00 =['P0080%02d'%i for i in range(1,50)]\n",
      "age2_sf3_00 =['P0080%02d'%i for i in range(50,80)]\n",
      "#RACE\n",
      "race_sf3_00 =['P0060%02d'%i for i in range(1,9)]\n",
      "#Hispanic or Latino by Race\n",
      "racehisp_sf3_00 =['P0070%02d'%i for i in range(1,18)]\n",
      "#Poverty Status in 1999 by Sex by Age\n",
      "poverty1_sf3_00 =['PCT0490%02d'%i for i in range(1,50)]\n",
      "poverty2_sf3_00 =['PCT0490%02d'%i for i in range(50,60)]\n",
      "#Household Income in 1999\n",
      "income_sf3_00 =['P0520%02d'%i for i in range(1,18)]\n",
      "#SEX BY EDUCATIONAL ATTAINMENT FOR THE POPULATION 25 YEARS AND OVER\n",
      "education_sf3_00 =['P0370%02d'%i for i in range(1,36)]\n",
      "#Tenure\n",
      "tenure_sf3_00 =['H0070%02d'%i for i in range(1,4)]\n",
      "#Aggregate Number of Vehicles Available by Tenure\n",
      "vehicle_sf3_00 =['H0460%02d'%i for i in range(1,4)]\n",
      "#Travel Time to Work for Workers 16 Years and Over\n",
      "commutetime_sf3_00 =['P0310%02d'%i for i in range(1,16)]\n",
      "#Means of Transportation to Work for Workers 16 Years and Over\n",
      "commutemode_sf3_00 =['P0300%02d'%i for i in range(1,17)]\n",
      "\n",
      "#2010 sf1\n",
      "#Total Population\n",
      "totpop_sf1_10 = ['P0010001']\n",
      "#Total Housing units\n",
      "tothouseunits_sf1_10 = ['H00010001']"
     ],
     "language": "python",
     "metadata": {},
     "outputs": [],
     "prompt_number": 1
    },
    {
     "cell_type": "code",
     "collapsed": false,
     "input": [],
     "language": "python",
     "metadata": {},
     "outputs": []
    }
   ],
   "metadata": {}
  }
 ]
}