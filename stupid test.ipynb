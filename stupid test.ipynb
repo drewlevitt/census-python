{
 "metadata": {
  "name": "",
  "signature": "sha256:7b515d2a630eab00bcba0b80f6de9b5345d4e0db671d346242b069ab1586dc3e"
 },
 "nbformat": 3,
 "nbformat_minor": 0,
 "worksheets": [
  {
   "cells": [
    {
     "cell_type": "code",
     "collapsed": false,
     "input": [
      "testdict = {\"a\": \"apple\",\n",
      "            \"b\": \"banana\",\n",
      "            \"c\": \"cucumber\",\n",
      "            \"d\": \"durian\",\n",
      "            \"e\": \"eggplant\"}"
     ],
     "language": "python",
     "metadata": {},
     "outputs": [],
     "prompt_number": 13
    },
    {
     "cell_type": "code",
     "collapsed": false,
     "input": [
      "testdict.keys()"
     ],
     "language": "python",
     "metadata": {},
     "outputs": [
      {
       "metadata": {},
       "output_type": "pyout",
       "prompt_number": 14,
       "text": [
        "['a', 'c', 'b', 'e', 'd']"
       ]
      }
     ],
     "prompt_number": 14
    },
    {
     "cell_type": "code",
     "collapsed": false,
     "input": [
      "verbosedict = dict(zip(testdict.keys(), [key + \" \" + value for key, value in testdict.items()]))"
     ],
     "language": "python",
     "metadata": {},
     "outputs": [],
     "prompt_number": 15
    },
    {
     "cell_type": "code",
     "collapsed": false,
     "input": [
      "verbosedict"
     ],
     "language": "python",
     "metadata": {},
     "outputs": [
      {
       "metadata": {},
       "output_type": "pyout",
       "prompt_number": 16,
       "text": [
        "{'a': 'a apple',\n",
        " 'b': 'b banana',\n",
        " 'c': 'c cucumber',\n",
        " 'd': 'd durian',\n",
        " 'e': 'e eggplant'}"
       ]
      }
     ],
     "prompt_number": 16
    },
    {
     "cell_type": "code",
     "collapsed": false,
     "input": [],
     "language": "python",
     "metadata": {},
     "outputs": []
    }
   ],
   "metadata": {}
  }
 ]
}