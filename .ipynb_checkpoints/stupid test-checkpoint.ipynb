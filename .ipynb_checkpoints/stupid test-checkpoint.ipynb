{
 "metadata": {
  "name": "",
  "signature": "sha256:62e242e8b592f49b13297fb1c48c4b38d8e147c6bea295e3dd08e45b2cad0f46"
 },
 "nbformat": 3,
 "nbformat_minor": 0,
 "worksheets": []
}