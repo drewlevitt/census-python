{
 "metadata": {
  "name": "",
  "signature": "sha256:76378679b5af05c9bb68bb72bc90e223400f96e7b52ac3089b92cbde3c2a2954"
 },
 "nbformat": 3,
 "nbformat_minor": 0,
 "worksheets": [
  {
   "cells": [
    {
     "cell_type": "code",
     "collapsed": false,
     "input": [
      "import pandas as pd\n",
      "from census import Census\n",
      "from us import states\n",
      "from scipy.stats import norm"
     ],
     "language": "python",
     "metadata": {},
     "outputs": [],
     "prompt_number": 53
    },
    {
     "cell_type": "code",
     "collapsed": false,
     "input": [
      "c = Census(\"827a8aafba255606ced9b44cd4380ba61ad39003\")\n",
      "c.acs.state(('NAME', 'B25034_010E'), states.CA.fips)"
     ],
     "language": "python",
     "metadata": {},
     "outputs": [
      {
       "metadata": {},
       "output_type": "pyout",
       "prompt_number": 54,
       "text": [
        "[{u'B25034_010E': u'1310351', u'NAME': u'California', u'state': u'06'}]"
       ]
      }
     ],
     "prompt_number": 54
    },
    {
     "cell_type": "code",
     "collapsed": false,
     "input": [
      "# number of workers by census tract for tracts 4093 and 4094 (* = all tracts) in Alameda County, ACS 1 year estimates from 2012\n",
      "c.acs.get((\"NAME\", \"B08301_001E\"), {\"for\": \"tract:409300,409400\", \"in\": \"state:06 county:001\"}, year=2012)"
     ],
     "language": "python",
     "metadata": {},
     "outputs": [
      {
       "metadata": {},
       "output_type": "pyout",
       "prompt_number": 55,
       "text": [
        "[{u'B08301_001E': u'1669',\n",
        "  u'NAME': u'Census Tract 4093, Alameda County, California',\n",
        "  u'county': u'001',\n",
        "  u'state': u'06',\n",
        "  u'tract': u'409300'},\n",
        " {u'B08301_001E': u'1695',\n",
        "  u'NAME': u'Census Tract 4094, Alameda County, California',\n",
        "  u'county': u'001',\n",
        "  u'state': u'06',\n",
        "  u'tract': u'409400'}]"
       ]
      }
     ],
     "prompt_number": 55
    },
    {
     "cell_type": "code",
     "collapsed": false,
     "input": [
      "testFrame = pd.DataFrame(c.acs.get((\"NAME\", \"B08301_001E\", \"B08301_001M\"), {\"for\": \"tract:*\", \"in\": \"state:06 county:001\"}, year=2012))\n",
      "print testFrame.iloc[:,-3:].head()\n",
      "print testFrame.iloc[:,:-3].head()\n",
      "\n",
      "testFrameRecast = pd.concat([testFrame.iloc[:,:-3].convert_objects(convert_numeric = True),testFrame.iloc[:,-3:]], axis = 1)\n",
      "\n",
      "variable_names = {\"B08301_001E\": \"Workers\",\n",
      "                  \"B08301_001M\": \"Workers SE\",\n",
      "                  \"NAME\": \"Name\"}\n",
      "testFrameRecast = testFrameRecast.rename(columns = variable_names)\n",
      "testFrameRecast[\"Workers SE\"] = testFrameRecast[\"Workers SE\"] / 1.645\n",
      "\n",
      "#testframe2 = testframe[[\"county\", \"state\", \"tract\"]]\n",
      "\n",
      "testFrameRecast.head()"
     ],
     "language": "python",
     "metadata": {},
     "outputs": [
      {
       "output_type": "stream",
       "stream": "stdout",
       "text": [
        "  county state   tract\n",
        "0    001    06  400100\n",
        "1    001    06  400200\n",
        "2    001    06  400300\n",
        "3    001    06  400400\n",
        "4    001    06  400500\n",
        "  B08301_001E B08301_001M                                           NAME\n",
        "0        1276         177  Census Tract 4001, Alameda County, California\n",
        "1        1115         130  Census Tract 4002, Alameda County, California\n",
        "2        2876         353  Census Tract 4003, Alameda County, California\n",
        "3        2793         399  Census Tract 4004, Alameda County, California\n",
        "4        2027         254  Census Tract 4005, Alameda County, California\n"
       ]
      },
      {
       "html": [
        "<div style=\"max-height:1000px;max-width:1500px;overflow:auto;\">\n",
        "<table border=\"1\" class=\"dataframe\">\n",
        "  <thead>\n",
        "    <tr style=\"text-align: right;\">\n",
        "      <th></th>\n",
        "      <th>Workers</th>\n",
        "      <th>Workers SE</th>\n",
        "      <th>Name</th>\n",
        "      <th>county</th>\n",
        "      <th>state</th>\n",
        "      <th>tract</th>\n",
        "    </tr>\n",
        "  </thead>\n",
        "  <tbody>\n",
        "    <tr>\n",
        "      <th>0</th>\n",
        "      <td> 1276</td>\n",
        "      <td> 107.598784</td>\n",
        "      <td> Census Tract 4001, Alameda County, California</td>\n",
        "      <td> 001</td>\n",
        "      <td> 06</td>\n",
        "      <td> 400100</td>\n",
        "    </tr>\n",
        "    <tr>\n",
        "      <th>1</th>\n",
        "      <td> 1115</td>\n",
        "      <td>  79.027356</td>\n",
        "      <td> Census Tract 4002, Alameda County, California</td>\n",
        "      <td> 001</td>\n",
        "      <td> 06</td>\n",
        "      <td> 400200</td>\n",
        "    </tr>\n",
        "    <tr>\n",
        "      <th>2</th>\n",
        "      <td> 2876</td>\n",
        "      <td> 214.589666</td>\n",
        "      <td> Census Tract 4003, Alameda County, California</td>\n",
        "      <td> 001</td>\n",
        "      <td> 06</td>\n",
        "      <td> 400300</td>\n",
        "    </tr>\n",
        "    <tr>\n",
        "      <th>3</th>\n",
        "      <td> 2793</td>\n",
        "      <td> 242.553191</td>\n",
        "      <td> Census Tract 4004, Alameda County, California</td>\n",
        "      <td> 001</td>\n",
        "      <td> 06</td>\n",
        "      <td> 400400</td>\n",
        "    </tr>\n",
        "    <tr>\n",
        "      <th>4</th>\n",
        "      <td> 2027</td>\n",
        "      <td> 154.407295</td>\n",
        "      <td> Census Tract 4005, Alameda County, California</td>\n",
        "      <td> 001</td>\n",
        "      <td> 06</td>\n",
        "      <td> 400500</td>\n",
        "    </tr>\n",
        "  </tbody>\n",
        "</table>\n",
        "</div>"
       ],
       "metadata": {},
       "output_type": "pyout",
       "prompt_number": 56,
       "text": [
        "   Workers  Workers SE                                           Name county  \\\n",
        "0     1276  107.598784  Census Tract 4001, Alameda County, California    001   \n",
        "1     1115   79.027356  Census Tract 4002, Alameda County, California    001   \n",
        "2     2876  214.589666  Census Tract 4003, Alameda County, California    001   \n",
        "3     2793  242.553191  Census Tract 4004, Alameda County, California    001   \n",
        "4     2027  154.407295  Census Tract 4005, Alameda County, California    001   \n",
        "\n",
        "  state   tract  \n",
        "0    06  400100  \n",
        "1    06  400200  \n",
        "2    06  400300  \n",
        "3    06  400400  \n",
        "4    06  400500  "
       ]
      }
     ],
     "prompt_number": 56
    },
    {
     "cell_type": "code",
     "collapsed": false,
     "input": [
      "print norm.ppf(0.9)\n",
      "print norm.ppf(0.95)\n",
      "print norm.ppf(0.99)"
     ],
     "language": "python",
     "metadata": {},
     "outputs": [
      {
       "output_type": "stream",
       "stream": "stdout",
       "text": [
        "1.28155156554\n",
        "1.64485362695\n",
        "2.32634787404\n"
       ]
      }
     ],
     "prompt_number": 57
    },
    {
     "cell_type": "code",
     "collapsed": false,
     "input": [
      "x = 0.9\n",
      "x_modified = x + (1-x)/2\n",
      "print x_modified\n",
      "print norm.ppf(x_modified)"
     ],
     "language": "python",
     "metadata": {},
     "outputs": [
      {
       "output_type": "stream",
       "stream": "stdout",
       "text": [
        "0.95\n",
        "1.64485362695\n"
       ]
      }
     ],
     "prompt_number": 58
    },
    {
     "cell_type": "code",
     "collapsed": false,
     "input": [
      "from scipy.stats import norm # needed for percent point function norm.ppf\n",
      "\n",
      "def significant(x, x_se, y, y_se, ci):\n",
      "    p = ci + (1 - ci)/2 # convert confidence interval into two-tailed test critical value\n",
      "    z = norm.ppf(p) # z-score\n",
      "    return abs((x - y)/(x_se**2 + y_se**2)**0.5) > z\n",
      "    \n",
      "print significant(1,0.1,0.5,.2,.99)"
     ],
     "language": "python",
     "metadata": {},
     "outputs": [
      {
       "output_type": "stream",
       "stream": "stdout",
       "text": [
        "False\n"
       ]
      }
     ],
     "prompt_number": 59
    },
    {
     "cell_type": "code",
     "collapsed": false,
     "input": [
      "print testFrameRecast.iat[2,0], testFrameRecast.iat[2,1], testFrameRecast.iat[3,0], testFrameRecast.iat[3,1]\n",
      "significant(testFrameRecast.iat[2,0], testFrameRecast.iat[2,1], testFrameRecast.iat[3,0], testFrameRecast.iat[3,1], .50)"
     ],
     "language": "python",
     "metadata": {},
     "outputs": [
      {
       "output_type": "stream",
       "stream": "stdout",
       "text": [
        "2876 214.589665653 2793 242.553191489\n"
       ]
      },
      {
       "metadata": {},
       "output_type": "pyout",
       "prompt_number": 60,
       "text": [
        "False"
       ]
      }
     ],
     "prompt_number": 60
    },
    {
     "cell_type": "code",
     "collapsed": false,
     "input": [
      "print testFrameRecast.iat[0,1]"
     ],
     "language": "python",
     "metadata": {},
     "outputs": [
      {
       "output_type": "stream",
       "stream": "stdout",
       "text": [
        "107.598784195\n"
       ]
      }
     ],
     "prompt_number": 61
    },
    {
     "cell_type": "code",
     "collapsed": false,
     "input": [
      "def aggregate_se(*ses):\n",
      "    '''returns the root of the sum of squares, i.e. the aggregated standard error'''\n",
      "    sum = 0\n",
      "    for se in ses:\n",
      "        sum += se**2\n",
      "    return sum**0.5\n",
      "\n",
      "print aggregate_se(3,4)\n",
      "print aggregate_se(3)\n",
      "print aggregate_se(5, 6, 7)"
     ],
     "language": "python",
     "metadata": {},
     "outputs": [
      {
       "output_type": "stream",
       "stream": "stdout",
       "text": [
        "5.0\n",
        "3.0\n",
        "10.4880884817\n"
       ]
      }
     ],
     "prompt_number": 62
    },
    {
     "cell_type": "code",
     "collapsed": false,
     "input": [
      "import re"
     ],
     "language": "python",
     "metadata": {},
     "outputs": [],
     "prompt_number": 63
    },
    {
     "cell_type": "code",
     "collapsed": false,
     "input": [
      "testframe2 = testFrameRecast.filter(regex = \"Workers\")\n",
      "testframe2.head()"
     ],
     "language": "python",
     "metadata": {},
     "outputs": [
      {
       "html": [
        "<div style=\"max-height:1000px;max-width:1500px;overflow:auto;\">\n",
        "<table border=\"1\" class=\"dataframe\">\n",
        "  <thead>\n",
        "    <tr style=\"text-align: right;\">\n",
        "      <th></th>\n",
        "      <th>Workers</th>\n",
        "      <th>Workers SE</th>\n",
        "    </tr>\n",
        "  </thead>\n",
        "  <tbody>\n",
        "    <tr>\n",
        "      <th>0</th>\n",
        "      <td> 1276</td>\n",
        "      <td> 107.598784</td>\n",
        "    </tr>\n",
        "    <tr>\n",
        "      <th>1</th>\n",
        "      <td> 1115</td>\n",
        "      <td>  79.027356</td>\n",
        "    </tr>\n",
        "    <tr>\n",
        "      <th>2</th>\n",
        "      <td> 2876</td>\n",
        "      <td> 214.589666</td>\n",
        "    </tr>\n",
        "    <tr>\n",
        "      <th>3</th>\n",
        "      <td> 2793</td>\n",
        "      <td> 242.553191</td>\n",
        "    </tr>\n",
        "    <tr>\n",
        "      <th>4</th>\n",
        "      <td> 2027</td>\n",
        "      <td> 154.407295</td>\n",
        "    </tr>\n",
        "  </tbody>\n",
        "</table>\n",
        "</div>"
       ],
       "metadata": {},
       "output_type": "pyout",
       "prompt_number": 64,
       "text": [
        "   Workers  Workers SE\n",
        "0     1276  107.598784\n",
        "1     1115   79.027356\n",
        "2     2876  214.589666\n",
        "3     2793  242.553191\n",
        "4     2027  154.407295"
       ]
      }
     ],
     "prompt_number": 64
    },
    {
     "cell_type": "code",
     "collapsed": false,
     "input": [
      "# number of workers 16yo and older with commute time 20-24 mins for tracts 4093 and 4094 (* = all tracts) in Alameda County, ACS 5 year estimates from 2012\n",
      "c.acs5.get((\"NAME\", \"B08603_006E\"), {\"for\": \"county:001\", \"in\": \"state:06\"}, year=2012)"
     ],
     "language": "python",
     "metadata": {},
     "outputs": [
      {
       "metadata": {},
       "output_type": "pyout",
       "prompt_number": 65,
       "text": [
        "[{u'B08603_006E': u'93363',\n",
        "  u'NAME': u'Alameda County, California',\n",
        "  u'county': u'001',\n",
        "  u'state': u'06'}]"
       ]
      }
     ],
     "prompt_number": 65
    },
    {
     "cell_type": "code",
     "collapsed": false,
     "input": [
      "import pandas as pd\n",
      "import requests, json\n",
      "import urllib2\n",
      "apikey = \"827a8aafba255606ced9b44cd4380ba61ad39003\""
     ],
     "language": "python",
     "metadata": {},
     "outputs": [],
     "prompt_number": 67
    },
    {
     "cell_type": "code",
     "collapsed": false,
     "input": [
      "## HUGE thanks to Aksel Olsen (via Sam Blanchard) for this function\n",
      "\n",
      "def get_data(year,dataset,table):\n",
      "    \"\"\"\n",
      "    Gets data from api based on year, dataset and tablename\n",
      "    \"\"\"\n",
      "    \n",
      "    import re\n",
      "    #concatenate table list to pass to url param\n",
      "    stable = ','.join(table)\n",
      "    \n",
      "    url = 'http://api.census.gov/data/%(yr)s/%(dset)s?key=%(key)s&get=%(tbl)s&for=tract:*&in=state:06'\n",
      "    url = url %{\n",
      "    'key':apikey,\n",
      "    'yr':year,\n",
      "    'dset':dataset,\n",
      "    'tbl':stable\n",
      "    }\n",
      "    print url\n",
      "    ## get data\n",
      "    resp = requests.get(url)\n",
      "    \n",
      "    ## get variable details, labels\n",
      "    jsontext = requests.get('http://api.census.gov/data/2012/acs5/variables.json')\n",
      "    \n",
      "    try:\n",
      "        data = pd.read_json(resp.text)\n",
      "        \n",
      "        ## col names are found at index 0\n",
      "        cols = data.ix[0,].tolist()\n",
      "           \n",
      "        data.columns=cols\n",
      "                        \n",
      "        ## data ships with empty row--remove\n",
      "        data=data.drop(data.index[:1])\n",
      "        \n",
      "        ## geo stuff\n",
      "        ##    keep bay area counties only\n",
      "        data = data.ix[data.county.isin(bayareafips.keys()),:]\n",
      "        \n",
      "        ## add unique geoid as index \n",
      "        data.index = data.state+data.county+data.tract\n",
      "        \n",
      "        ## add county abbreviation\n",
      "        data['county'] = data.county.map(bayareafips)\n",
      "        data.drop(['state','tract'],inplace=True,axis=1)\n",
      "        \n",
      "        ## make sure numeric data is numeric\n",
      "        data.ix[:,table]=data[table].astype('float64')\n",
      "        \n",
      "        ## rename columns, looking up in dictionary. Perhaps bad form w verbose names\n",
      "        datadict = pd.DataFrame(jsontext.json()['variables']).T\n",
      "        \n",
      "        ## get labels, stuff in dict\n",
      "        datadict_rename = datadict.ix[table,'label'].to_dict()\n",
      "        \n",
      "        ## rename\n",
      "        data.rename(columns=datadict_rename,inplace=True)\n",
      "        \n",
      "        fname = \"census_%s_%s_%s.csv\" %(dataset,year,re.sub('\\.  | ','_',''.join(datadict.ix[datadict.index==table[0],:].concept.tolist())))\n",
      "        print \"writing data to %s\" %fname\n",
      "        \n",
      "        data.to_csv(fname)\n",
      "        return data\n",
      "    except Exception, e:\n",
      "        raise    # decoding failed\n",
      "        print \"holy smokes!\"\n",
      "        print \"failed on %s\" %url\n",
      "    else:\n",
      "        pass"
     ],
     "language": "python",
     "metadata": {},
     "outputs": [],
     "prompt_number": 68
    },
    {
     "cell_type": "code",
     "collapsed": false,
     "input": [
      "bedrooms = ['B25041_0%02dE'%i for i in range(1,8)]\n",
      "bayareafips ={'001':'ala', '013':'con', '041':'mar', '055':'nap', '075':'sfr', '081':'san', '085':'scl', '095':'son', '097':'sol'}\n",
      "d = get_data(\"2012\",\"acs5\",bedrooms)\n",
      "d.head()"
     ],
     "language": "python",
     "metadata": {},
     "outputs": [
      {
       "output_type": "stream",
       "stream": "stdout",
       "text": [
        "http://api.census.gov/data/2012/acs5?key=827a8aafba255606ced9b44cd4380ba61ad39003&get=B25041_001E,B25041_002E,B25041_003E,B25041_004E,B25041_005E,B25041_006E,B25041_007E&for=tract:*&in=state:06\n",
        "writing data to census_acs5_2012_B25041_Bedrooms.csv"
       ]
      },
      {
       "output_type": "stream",
       "stream": "stdout",
       "text": [
        "\n"
       ]
      },
      {
       "html": [
        "<div style=\"max-height:1000px;max-width:1500px;overflow:auto;\">\n",
        "<table border=\"1\" class=\"dataframe\">\n",
        "  <thead>\n",
        "    <tr style=\"text-align: right;\">\n",
        "      <th></th>\n",
        "      <th>Total:</th>\n",
        "      <th>No bedroom</th>\n",
        "      <th>1 bedroom</th>\n",
        "      <th>2 bedrooms</th>\n",
        "      <th>3 bedrooms</th>\n",
        "      <th>4 bedrooms</th>\n",
        "      <th>5 or more bedrooms</th>\n",
        "      <th>county</th>\n",
        "    </tr>\n",
        "  </thead>\n",
        "  <tbody>\n",
        "    <tr>\n",
        "      <th>06001400100</th>\n",
        "      <td> 1413</td>\n",
        "      <td>  17</td>\n",
        "      <td>  72</td>\n",
        "      <td> 232</td>\n",
        "      <td> 560</td>\n",
        "      <td> 439</td>\n",
        "      <td>  93</td>\n",
        "      <td> ala</td>\n",
        "    </tr>\n",
        "    <tr>\n",
        "      <th>06001400200</th>\n",
        "      <td>  913</td>\n",
        "      <td>  16</td>\n",
        "      <td> 151</td>\n",
        "      <td> 248</td>\n",
        "      <td> 326</td>\n",
        "      <td> 147</td>\n",
        "      <td>  25</td>\n",
        "      <td> ala</td>\n",
        "    </tr>\n",
        "    <tr>\n",
        "      <th>06001400300</th>\n",
        "      <td> 2622</td>\n",
        "      <td> 251</td>\n",
        "      <td> 797</td>\n",
        "      <td> 846</td>\n",
        "      <td> 421</td>\n",
        "      <td> 173</td>\n",
        "      <td> 134</td>\n",
        "      <td> ala</td>\n",
        "    </tr>\n",
        "    <tr>\n",
        "      <th>06001400400</th>\n",
        "      <td> 1920</td>\n",
        "      <td> 112</td>\n",
        "      <td> 457</td>\n",
        "      <td> 722</td>\n",
        "      <td> 448</td>\n",
        "      <td> 104</td>\n",
        "      <td>  77</td>\n",
        "      <td> ala</td>\n",
        "    </tr>\n",
        "    <tr>\n",
        "      <th>06001400500</th>\n",
        "      <td> 1678</td>\n",
        "      <td>  89</td>\n",
        "      <td> 430</td>\n",
        "      <td> 585</td>\n",
        "      <td> 381</td>\n",
        "      <td> 160</td>\n",
        "      <td>  33</td>\n",
        "      <td> ala</td>\n",
        "    </tr>\n",
        "  </tbody>\n",
        "</table>\n",
        "</div>"
       ],
       "metadata": {},
       "output_type": "pyout",
       "prompt_number": 70,
       "text": [
        "            Total: No bedroom 1 bedroom 2 bedrooms 3 bedrooms 4 bedrooms  \\\n",
        "06001400100   1413         17        72        232        560        439   \n",
        "06001400200    913         16       151        248        326        147   \n",
        "06001400300   2622        251       797        846        421        173   \n",
        "06001400400   1920        112       457        722        448        104   \n",
        "06001400500   1678         89       430        585        381        160   \n",
        "\n",
        "            5 or more bedrooms county  \n",
        "06001400100                 93    ala  \n",
        "06001400200                 25    ala  \n",
        "06001400300                134    ala  \n",
        "06001400400                 77    ala  \n",
        "06001400500                 33    ala  "
       ]
      }
     ],
     "prompt_number": 70
    },
    {
     "cell_type": "code",
     "collapsed": false,
     "input": [],
     "language": "python",
     "metadata": {},
     "outputs": [],
     "prompt_number": 70
    }
   ],
   "metadata": {}
  }
 ]
}