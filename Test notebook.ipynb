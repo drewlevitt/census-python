{
 "metadata": {
  "name": "",
  "signature": "sha256:789f35d03970e6ccc299fe5f87d3b7be45511de4788a544899232229b8d959d7"
 },
 "nbformat": 3,
 "nbformat_minor": 0,
 "worksheets": [
  {
   "cells": [
    {
     "cell_type": "code",
     "collapsed": false,
     "input": [
      "import pandas as pd\n",
      "from census import Census\n",
      "from us import states\n",
      "import math\n",
      "from scipy.stats import norm"
     ],
     "language": "python",
     "metadata": {},
     "outputs": [],
     "prompt_number": 56
    },
    {
     "cell_type": "code",
     "collapsed": false,
     "input": [
      "c = Census(\"827a8aafba255606ced9b44cd4380ba61ad39003\")\n",
      "c.acs.state(('NAME', 'B25034_010E'), states.CA.fips)"
     ],
     "language": "python",
     "metadata": {},
     "outputs": [
      {
       "metadata": {},
       "output_type": "pyout",
       "prompt_number": 57,
       "text": [
        "[{u'B25034_010E': u'1310351', u'NAME': u'California', u'state': u'06'}]"
       ]
      }
     ],
     "prompt_number": 57
    },
    {
     "cell_type": "code",
     "collapsed": false,
     "input": [
      "# number of workers by census tract for tracts 4093 and 4094 (* = all tracts) in Alameda County, ACS 1 year estimates from 2012\n",
      "c.acs.get((\"NAME\", \"B08301_001E\"), {\"for\": \"tract:409300,409400\", \"in\": \"state:06 county:001\"}, year=2012)"
     ],
     "language": "python",
     "metadata": {},
     "outputs": [
      {
       "metadata": {},
       "output_type": "pyout",
       "prompt_number": 58,
       "text": [
        "[{u'B08301_001E': u'1669',\n",
        "  u'NAME': u'Census Tract 4093, Alameda County, California',\n",
        "  u'county': u'001',\n",
        "  u'state': u'06',\n",
        "  u'tract': u'409300'},\n",
        " {u'B08301_001E': u'1695',\n",
        "  u'NAME': u'Census Tract 4094, Alameda County, California',\n",
        "  u'county': u'001',\n",
        "  u'state': u'06',\n",
        "  u'tract': u'409400'}]"
       ]
      }
     ],
     "prompt_number": 58
    },
    {
     "cell_type": "code",
     "collapsed": false,
     "input": [
      "testFrame = pd.DataFrame(c.acs.get((\"NAME\", \"B08301_001E\", \"B08301_001M\"), {\"for\": \"tract:*\", \"in\": \"state:06 county:001\"}, year=2012))\n",
      "print testFrame.iloc[:,-3:].head()\n",
      "print testFrame.iloc[:,:-3].head()\n",
      "\n",
      "testFrameRecast = pd.concat([testFrame.iloc[:,:-3].convert_objects(convert_numeric = True),testFrame.iloc[:,-3:]], axis = 1)\n",
      "\n",
      "variable_names = {\"B08301_001E\": \"Workers\",\n",
      "                  \"B08301_001M\": \"Workers SE\",\n",
      "                  \"NAME\": \"Name\"}\n",
      "testFrameRecast = testFrameRecast.rename(columns = variable_names)\n",
      "testFrameRecast[\"Workers SE\"] = testFrameRecast[\"Workers SE\"] / 1.645\n",
      "\n",
      "testFrameRecast.head()"
     ],
     "language": "python",
     "metadata": {},
     "outputs": [
      {
       "output_type": "stream",
       "stream": "stdout",
       "text": [
        "  county state   tract\n",
        "0    001    06  400100\n",
        "1    001    06  400200\n",
        "2    001    06  400300\n",
        "3    001    06  400400\n",
        "4    001    06  400500\n",
        "  B08301_001E B08301_001M                                           NAME\n",
        "0        1276         177  Census Tract 4001, Alameda County, California\n",
        "1        1115         130  Census Tract 4002, Alameda County, California\n",
        "2        2876         353  Census Tract 4003, Alameda County, California\n",
        "3        2793         399  Census Tract 4004, Alameda County, California\n",
        "4        2027         254  Census Tract 4005, Alameda County, California\n"
       ]
      },
      {
       "html": [
        "<div style=\"max-height:1000px;max-width:1500px;overflow:auto;\">\n",
        "<table border=\"1\" class=\"dataframe\">\n",
        "  <thead>\n",
        "    <tr style=\"text-align: right;\">\n",
        "      <th></th>\n",
        "      <th>Workers</th>\n",
        "      <th>Workers SE</th>\n",
        "      <th>Name</th>\n",
        "      <th>county</th>\n",
        "      <th>state</th>\n",
        "      <th>tract</th>\n",
        "    </tr>\n",
        "  </thead>\n",
        "  <tbody>\n",
        "    <tr>\n",
        "      <th>0</th>\n",
        "      <td> 1276</td>\n",
        "      <td> 107.598784</td>\n",
        "      <td> Census Tract 4001, Alameda County, California</td>\n",
        "      <td> 001</td>\n",
        "      <td> 06</td>\n",
        "      <td> 400100</td>\n",
        "    </tr>\n",
        "    <tr>\n",
        "      <th>1</th>\n",
        "      <td> 1115</td>\n",
        "      <td>  79.027356</td>\n",
        "      <td> Census Tract 4002, Alameda County, California</td>\n",
        "      <td> 001</td>\n",
        "      <td> 06</td>\n",
        "      <td> 400200</td>\n",
        "    </tr>\n",
        "    <tr>\n",
        "      <th>2</th>\n",
        "      <td> 2876</td>\n",
        "      <td> 214.589666</td>\n",
        "      <td> Census Tract 4003, Alameda County, California</td>\n",
        "      <td> 001</td>\n",
        "      <td> 06</td>\n",
        "      <td> 400300</td>\n",
        "    </tr>\n",
        "    <tr>\n",
        "      <th>3</th>\n",
        "      <td> 2793</td>\n",
        "      <td> 242.553191</td>\n",
        "      <td> Census Tract 4004, Alameda County, California</td>\n",
        "      <td> 001</td>\n",
        "      <td> 06</td>\n",
        "      <td> 400400</td>\n",
        "    </tr>\n",
        "    <tr>\n",
        "      <th>4</th>\n",
        "      <td> 2027</td>\n",
        "      <td> 154.407295</td>\n",
        "      <td> Census Tract 4005, Alameda County, California</td>\n",
        "      <td> 001</td>\n",
        "      <td> 06</td>\n",
        "      <td> 400500</td>\n",
        "    </tr>\n",
        "  </tbody>\n",
        "</table>\n",
        "</div>"
       ],
       "metadata": {},
       "output_type": "pyout",
       "prompt_number": 80,
       "text": [
        "   Workers  Workers SE                                           Name county  \\\n",
        "0     1276  107.598784  Census Tract 4001, Alameda County, California    001   \n",
        "1     1115   79.027356  Census Tract 4002, Alameda County, California    001   \n",
        "2     2876  214.589666  Census Tract 4003, Alameda County, California    001   \n",
        "3     2793  242.553191  Census Tract 4004, Alameda County, California    001   \n",
        "4     2027  154.407295  Census Tract 4005, Alameda County, California    001   \n",
        "\n",
        "  state   tract  \n",
        "0    06  400100  \n",
        "1    06  400200  \n",
        "2    06  400300  \n",
        "3    06  400400  \n",
        "4    06  400500  "
       ]
      }
     ],
     "prompt_number": 80
    },
    {
     "cell_type": "code",
     "collapsed": false,
     "input": [
      "print norm.ppf(0.9)\n",
      "print norm.ppf(0.95)\n",
      "print norm.ppf(0.99)"
     ],
     "language": "python",
     "metadata": {},
     "outputs": [
      {
       "output_type": "stream",
       "stream": "stdout",
       "text": [
        "1.28155156554\n",
        "1.64485362695\n",
        "2.32634787404\n"
       ]
      }
     ],
     "prompt_number": 60
    },
    {
     "cell_type": "code",
     "collapsed": false,
     "input": [
      "x = 0.9\n",
      "x_modified = x + (1-x)/2\n",
      "print x_modified\n",
      "print norm.ppf(x_modified)"
     ],
     "language": "python",
     "metadata": {},
     "outputs": [
      {
       "output_type": "stream",
       "stream": "stdout",
       "text": [
        "0.95\n",
        "1.64485362695\n"
       ]
      }
     ],
     "prompt_number": 61
    },
    {
     "cell_type": "code",
     "collapsed": false,
     "input": [
      "from scipy.stats import norm # needed for percent point function norm.ppf\n",
      "\n",
      "def significant(x, x_se, y, y_se, ci):\n",
      "    p = ci + (1 - ci)/2 # convert confidence interval into two-tailed test critical value\n",
      "    z = norm.ppf(p) # z-score\n",
      "    return abs((x - y)/(x_se**2 + y_se**2)**0.5) > z\n",
      "    \n",
      "print significant(1,0.1,0.5,.2,.99)"
     ],
     "language": "python",
     "metadata": {},
     "outputs": [
      {
       "output_type": "stream",
       "stream": "stdout",
       "text": [
        "False\n"
       ]
      }
     ],
     "prompt_number": 69
    },
    {
     "cell_type": "code",
     "collapsed": false,
     "input": [
      "print testFrameRecast.iat[2,0], testFrameRecast.iat[2,1], testFrameRecast.iat[3,0], testFrameRecast.iat[3,1]\n",
      "significant(testFrameRecast.iat[2,0], testFrameRecast.iat[2,1], testFrameRecast.iat[3,0], testFrameRecast.iat[3,1], .50)"
     ],
     "language": "python",
     "metadata": {},
     "outputs": [
      {
       "output_type": "stream",
       "stream": "stdout",
       "text": [
        "2876 214.589665653 2793 242.553191489\n"
       ]
      },
      {
       "metadata": {},
       "output_type": "pyout",
       "prompt_number": 82,
       "text": [
        "False"
       ]
      }
     ],
     "prompt_number": 82
    },
    {
     "cell_type": "code",
     "collapsed": false,
     "input": [
      "print testFrameRecast.iat[0,1]"
     ],
     "language": "python",
     "metadata": {},
     "outputs": [
      {
       "output_type": "stream",
       "stream": "stdout",
       "text": [
        "177\n"
       ]
      }
     ],
     "prompt_number": 75
    },
    {
     "cell_type": "code",
     "collapsed": false,
     "input": [],
     "language": "python",
     "metadata": {},
     "outputs": []
    }
   ],
   "metadata": {}
  }
 ]
}